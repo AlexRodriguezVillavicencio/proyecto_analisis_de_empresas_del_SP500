{
 "cells": [
  {
   "cell_type": "code",
   "execution_count": 3,
   "metadata": {},
   "outputs": [],
   "source": [
    "import yfinance as yf"
   ]
  },
  {
   "cell_type": "code",
   "execution_count": 4,
   "metadata": {},
   "outputs": [
    {
     "name": "stdout",
     "output_type": "stream",
     "text": [
      "[*********************100%***********************]  1 of 1 completed\n"
     ]
    },
    {
     "data": {
      "text/html": [
       "<div>\n",
       "<style scoped>\n",
       "    .dataframe tbody tr th:only-of-type {\n",
       "        vertical-align: middle;\n",
       "    }\n",
       "\n",
       "    .dataframe tbody tr th {\n",
       "        vertical-align: top;\n",
       "    }\n",
       "\n",
       "    .dataframe thead th {\n",
       "        text-align: right;\n",
       "    }\n",
       "</style>\n",
       "<table border=\"1\" class=\"dataframe\">\n",
       "  <thead>\n",
       "    <tr style=\"text-align: right;\">\n",
       "      <th></th>\n",
       "      <th>Date</th>\n",
       "      <th>Open</th>\n",
       "      <th>High</th>\n",
       "      <th>Low</th>\n",
       "      <th>Close</th>\n",
       "      <th>Adj Close</th>\n",
       "      <th>Volume</th>\n",
       "    </tr>\n",
       "  </thead>\n",
       "  <tbody>\n",
       "    <tr>\n",
       "      <th>0</th>\n",
       "      <td>2022-01-19</td>\n",
       "      <td>38.000000</td>\n",
       "      <td>43.000000</td>\n",
       "      <td>38.000000</td>\n",
       "      <td>42.000000</td>\n",
       "      <td>41.759682</td>\n",
       "      <td>129900</td>\n",
       "    </tr>\n",
       "    <tr>\n",
       "      <th>1</th>\n",
       "      <td>2022-01-20</td>\n",
       "      <td>40.950001</td>\n",
       "      <td>48.369999</td>\n",
       "      <td>40.950001</td>\n",
       "      <td>45.000000</td>\n",
       "      <td>44.742512</td>\n",
       "      <td>153400</td>\n",
       "    </tr>\n",
       "    <tr>\n",
       "      <th>2</th>\n",
       "      <td>2022-01-21</td>\n",
       "      <td>43.000000</td>\n",
       "      <td>49.950001</td>\n",
       "      <td>42.950001</td>\n",
       "      <td>45.000000</td>\n",
       "      <td>44.742512</td>\n",
       "      <td>329500</td>\n",
       "    </tr>\n",
       "    <tr>\n",
       "      <th>3</th>\n",
       "      <td>2022-01-24</td>\n",
       "      <td>44.919998</td>\n",
       "      <td>45.000000</td>\n",
       "      <td>41.880001</td>\n",
       "      <td>42.799999</td>\n",
       "      <td>42.555099</td>\n",
       "      <td>110000</td>\n",
       "    </tr>\n",
       "    <tr>\n",
       "      <th>4</th>\n",
       "      <td>2022-01-25</td>\n",
       "      <td>42.500000</td>\n",
       "      <td>44.919998</td>\n",
       "      <td>41.330002</td>\n",
       "      <td>41.897999</td>\n",
       "      <td>41.658260</td>\n",
       "      <td>23500</td>\n",
       "    </tr>\n",
       "  </tbody>\n",
       "</table>\n",
       "</div>"
      ],
      "text/plain": [
       "        Date       Open       High        Low      Close  Adj Close  Volume\n",
       "0 2022-01-19  38.000000  43.000000  38.000000  42.000000  41.759682  129900\n",
       "1 2022-01-20  40.950001  48.369999  40.950001  45.000000  44.742512  153400\n",
       "2 2022-01-21  43.000000  49.950001  42.950001  45.000000  44.742512  329500\n",
       "3 2022-01-24  44.919998  45.000000  41.880001  42.799999  42.555099  110000\n",
       "4 2022-01-25  42.500000  44.919998  41.330002  41.897999  41.658260   23500"
      ]
     },
     "execution_count": 4,
     "metadata": {},
     "output_type": "execute_result"
    }
   ],
   "source": [
    "df = yf.download('CEG', start='2021-01-01', end='2022-06-02')\n",
    "df.reset_index(inplace=True)\n",
    "df.head()"
   ]
  },
  {
   "cell_type": "markdown",
   "metadata": {},
   "source": [
    "1 Failed download:\n",
    "- CEG: Data doesn't exist for startDate = 946702800, endDate = 1640926800"
   ]
  }
 ],
 "metadata": {
  "kernelspec": {
   "display_name": "Python 3.10.4 64-bit",
   "language": "python",
   "name": "python3"
  },
  "language_info": {
   "codemirror_mode": {
    "name": "ipython",
    "version": 3
   },
   "file_extension": ".py",
   "mimetype": "text/x-python",
   "name": "python",
   "nbconvert_exporter": "python",
   "pygments_lexer": "ipython3",
   "version": "3.10.4"
  },
  "orig_nbformat": 4,
  "vscode": {
   "interpreter": {
    "hash": "369f2c481f4da34e4445cda3fffd2e751bd1c4d706f27375911949ba6bb62e1c"
   }
  }
 },
 "nbformat": 4,
 "nbformat_minor": 2
}
