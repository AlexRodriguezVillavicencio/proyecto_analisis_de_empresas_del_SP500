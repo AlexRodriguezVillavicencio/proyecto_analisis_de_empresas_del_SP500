{
 "cells": [
  {
   "cell_type": "code",
   "execution_count": 1,
   "metadata": {},
   "outputs": [],
   "source": [
    "import yfinance as yf"
   ]
  },
  {
   "cell_type": "markdown",
   "metadata": {},
   "source": [
    "## Tablas de Muestra\n",
    "\n",
    "Vamos a traer algunas tablas de yahho finance para poder analizarlas y de acuerdo a ello automatizar el analisis de las 500 empresas."
   ]
  },
  {
   "cell_type": "code",
   "execution_count": 3,
   "metadata": {},
   "outputs": [],
   "source": [
    "############################\n",
    "#web scraping\n",
    "############################\n",
    "from bs4 import BeautifulSoup\n",
    "from urllib.request import Request, urlopen\n",
    "import pandas as pd\n",
    "\n",
    "site = \"https://en.wikipedia.org/wiki/List_of_S%26P_500_companies\"\n",
    "header = {'User-Agent': 'Mozilla/5.0'}\n",
    "req = Request(site,headers=header)\n",
    "page = urlopen(req)\n",
    "soup = BeautifulSoup(page, \"lxml\")\n",
    "table = soup.find('table', id=\"constituents\")\n",
    "\n",
    "#column \"TICKER\"\n",
    "tickers = []\n",
    "for row in table.findAll('tr')[1:]:\n",
    "    ticker = row.findAll('td')[0].get_text()\n",
    "    tickers.append(ticker)\n",
    "\n",
    "ticker = [n.replace('\\n','').replace('.','-') for n in tickers]\n",
    "\n",
    "#column \"COMPANY\"\n",
    "company = []\n",
    "for row in table.findAll('tr')[1:]:\n",
    "    name = row.findAll('td')[1].get_text()\n",
    "    company.append(name)\n",
    "\n",
    "company = [n.replace('\\n', '') for n in company]\n",
    "\n",
    "#column \"SECTOR\"\n",
    "sector = []\n",
    "for row in table.findAll('tr')[1:]:\n",
    "    name = row.findAll('td')[3].get_text()\n",
    "    sector.append(name)\n",
    "\n",
    "sector = [n.replace('\\n', '') for n in sector]\n",
    "\n",
    "#column \"INDUSTRY\"\n",
    "industry = []\n",
    "for row in table.findAll('tr')[1:]:\n",
    "    name = row.findAll('td')[4].get_text()\n",
    "    industry.append(name)\n",
    "\n",
    "industry = [n.replace('\\n', '') for n in industry]"
   ]
  },
  {
   "cell_type": "code",
   "execution_count": 4,
   "metadata": {},
   "outputs": [
    {
     "data": {
      "text/html": [
       "<div>\n",
       "<style scoped>\n",
       "    .dataframe tbody tr th:only-of-type {\n",
       "        vertical-align: middle;\n",
       "    }\n",
       "\n",
       "    .dataframe tbody tr th {\n",
       "        vertical-align: top;\n",
       "    }\n",
       "\n",
       "    .dataframe thead th {\n",
       "        text-align: right;\n",
       "    }\n",
       "</style>\n",
       "<table border=\"1\" class=\"dataframe\">\n",
       "  <thead>\n",
       "    <tr style=\"text-align: right;\">\n",
       "      <th></th>\n",
       "      <th>TICKER</th>\n",
       "      <th>COMPANY</th>\n",
       "      <th>SECTOR</th>\n",
       "      <th>INDUSTRY</th>\n",
       "    </tr>\n",
       "  </thead>\n",
       "  <tbody>\n",
       "    <tr>\n",
       "      <th>0</th>\n",
       "      <td>MMM</td>\n",
       "      <td>3M</td>\n",
       "      <td>Industrials</td>\n",
       "      <td>Industrial Conglomerates</td>\n",
       "    </tr>\n",
       "    <tr>\n",
       "      <th>1</th>\n",
       "      <td>AOS</td>\n",
       "      <td>A. O. Smith</td>\n",
       "      <td>Industrials</td>\n",
       "      <td>Building Products</td>\n",
       "    </tr>\n",
       "    <tr>\n",
       "      <th>2</th>\n",
       "      <td>ABT</td>\n",
       "      <td>Abbott</td>\n",
       "      <td>Health Care</td>\n",
       "      <td>Health Care Equipment</td>\n",
       "    </tr>\n",
       "    <tr>\n",
       "      <th>3</th>\n",
       "      <td>ABBV</td>\n",
       "      <td>AbbVie</td>\n",
       "      <td>Health Care</td>\n",
       "      <td>Pharmaceuticals</td>\n",
       "    </tr>\n",
       "    <tr>\n",
       "      <th>4</th>\n",
       "      <td>ABMD</td>\n",
       "      <td>Abiomed</td>\n",
       "      <td>Health Care</td>\n",
       "      <td>Health Care Equipment</td>\n",
       "    </tr>\n",
       "  </tbody>\n",
       "</table>\n",
       "</div>"
      ],
      "text/plain": [
       "  TICKER      COMPANY       SECTOR                  INDUSTRY\n",
       "0    MMM           3M  Industrials  Industrial Conglomerates\n",
       "1    AOS  A. O. Smith  Industrials         Building Products\n",
       "2    ABT       Abbott  Health Care     Health Care Equipment\n",
       "3   ABBV       AbbVie  Health Care           Pharmaceuticals\n",
       "4   ABMD      Abiomed  Health Care     Health Care Equipment"
      ]
     },
     "execution_count": 4,
     "metadata": {},
     "output_type": "execute_result"
    }
   ],
   "source": [
    "df_SP = pd.DataFrame()\n",
    "df_SP['TICKER'] = ticker\n",
    "df_SP['COMPANY'] = company\n",
    "df_SP['SECTOR'] = sector\n",
    "df_SP['INDUSTRY'] = industry\n",
    "df_SP.head()"
   ]
  },
  {
   "cell_type": "markdown",
   "metadata": {},
   "source": [
    "analizamos las primeras 3 empresas"
   ]
  },
  {
   "cell_type": "code",
   "execution_count": 9,
   "metadata": {},
   "outputs": [
    {
     "name": "stdout",
     "output_type": "stream",
     "text": [
      "[*********************100%***********************]  1 of 1 completed\n",
      "[*********************100%***********************]  1 of 1 completed\n",
      "[*********************100%***********************]  1 of 1 completed\n",
      "[*********************100%***********************]  1 of 1 completed\n",
      "[*********************100%***********************]  1 of 1 completed\n"
     ]
    }
   ],
   "source": [
    "#exportamos los datos en un csv\n",
    "df_SP.to_csv('sp500.csv', index=False)\n",
    "ticker = ['MMM','ABBV','ABMD']\n",
    "for tck in ticker:\n",
    "    df = yf.download(tck, start='2000-01-01')\n",
    "    df.reset_index(inplace=True)\n",
    "    name_tck = tck.lower()\n",
    "    df.to_csv(name_tck + '.csv', index=False)"
   ]
  },
  {
   "cell_type": "code",
   "execution_count": 10,
   "metadata": {},
   "outputs": [],
   "source": [
    "import pandas as pd\n",
    "#carga de archivos de prueba\n",
    "df_sp500 = pd.read_csv('sp500.csv')\n",
    "df_mmm = pd.read_csv('mmm.csv')\n",
    "df_abbv = pd.read_csv('abbv.csv')\n",
    "df_abmd = pd.read_csv('abmd.csv')"
   ]
  },
  {
   "cell_type": "code",
   "execution_count": 3,
   "metadata": {},
   "outputs": [],
   "source": [
    "import matplotlib.pyplot as plt\n",
    "import seaborn as sns"
   ]
  },
  {
   "cell_type": "markdown",
   "metadata": {},
   "source": [
    "## Volatilidad\n",
    "\n",
    "referencia: https://www.gestionpasiva.com/la-volatilidad-como-se-calcula/\n",
    "\n",
    "Lo primero que generalizaremos es el cálculo de la volatilidad, ya que a menor volatilidad la rentabilidad de la empresa es más estable, por lo que una empresa estaría segura de poder invertir en ella de mediano a largo plazo."
   ]
  },
  {
   "cell_type": "markdown",
   "metadata": {},
   "source": [
    "Para ello usaremos el ticker: MMM para los siguientes calculos"
   ]
  },
  {
   "cell_type": "code",
   "execution_count": 193,
   "metadata": {},
   "outputs": [],
   "source": [
    "AdjClose_mmm = df_mmm['Adj Close']\n",
    "dfp = pd.DataFrame()\n",
    "dfp['Fecha'] = df_mmm['Date']\n",
    "dfp['Ajuste_Cierre'] = AdjClose_mmm"
   ]
  },
  {
   "cell_type": "markdown",
   "metadata": {},
   "source": [
    "Dividimos el calculo por años para poder hallar la rentabilidad anual (ROI)"
   ]
  },
  {
   "cell_type": "code",
   "execution_count": 194,
   "metadata": {},
   "outputs": [
    {
     "data": {
      "text/html": [
       "<div>\n",
       "<style scoped>\n",
       "    .dataframe tbody tr th:only-of-type {\n",
       "        vertical-align: middle;\n",
       "    }\n",
       "\n",
       "    .dataframe tbody tr th {\n",
       "        vertical-align: top;\n",
       "    }\n",
       "\n",
       "    .dataframe thead th {\n",
       "        text-align: right;\n",
       "    }\n",
       "</style>\n",
       "<table border=\"1\" class=\"dataframe\">\n",
       "  <thead>\n",
       "    <tr style=\"text-align: right;\">\n",
       "      <th></th>\n",
       "      <th>AÑO</th>\n",
       "      <th>ROI (%)</th>\n",
       "    </tr>\n",
       "  </thead>\n",
       "  <tbody>\n",
       "    <tr>\n",
       "      <th>0</th>\n",
       "      <td>2000</td>\n",
       "      <td>30.93</td>\n",
       "    </tr>\n",
       "    <tr>\n",
       "      <th>1</th>\n",
       "      <td>2001</td>\n",
       "      <td>1.30</td>\n",
       "    </tr>\n",
       "    <tr>\n",
       "      <th>2</th>\n",
       "      <td>2002</td>\n",
       "      <td>7.39</td>\n",
       "    </tr>\n",
       "  </tbody>\n",
       "</table>\n",
       "</div>"
      ],
      "text/plain": [
       "    AÑO  ROI (%)\n",
       "0  2000    30.93\n",
       "1  2001     1.30\n",
       "2  2002     7.39"
      ]
     },
     "execution_count": 194,
     "metadata": {},
     "output_type": "execute_result"
    }
   ],
   "source": [
    "lista = [2000,2001,2002,2003,2004,2005,2006,2007,2008,2009,2010,2011,2012,2013,2014,2015,2016,2017,2018,2019,2020,2021]\n",
    "Roi = []\n",
    "for m in lista:\n",
    "    df = dfp.loc[(dfp['Fecha']>= str(m) + '-01-01') & (dfp['Fecha']<= str(m) + '-12-31' )]\n",
    "    df.reset_index(inplace=True, drop=True)\n",
    "    first = df.loc[0,['Ajuste_Cierre']]\n",
    "    last = df.loc[df.shape[0] - 1,['Ajuste_Cierre']]\n",
    "    rentabilidad_anual = ((last - first)/first )*100\n",
    "    roi = round(float(rentabilidad_anual),2)\n",
    "    Roi.append(roi)\n",
    "\n",
    "df = pd.DataFrame()\n",
    "df['AÑO'] = lista\n",
    "df['ROI (%)'] = Roi\n",
    "\n",
    "df.head(3)"
   ]
  },
  {
   "cell_type": "code",
   "execution_count": 204,
   "metadata": {},
   "outputs": [
    {
     "data": {
      "image/png": "[encoded data removed]",
      "text/plain": [
       "<Figure size 1008x432 with 1 Axes>"
      ]
     },
     "metadata": {
      "needs_background": "light"
     },
     "output_type": "display_data"
    }
   ],
   "source": [
    "plt.figure(figsize=(14,6))\n",
    "plt.title('Rentabilidad de MMM')\n",
    "sns.barplot(data = df, x='AÑO', y='ROI (%)')\n",
    "plt.show()"
   ]
  },
  {
   "cell_type": "code",
   "execution_count": 171,
   "metadata": {},
   "outputs": [
    {
     "name": "stdout",
     "output_type": "stream",
     "text": [
      "volatilidad:  20.08 %\n"
     ]
    }
   ],
   "source": [
    "#desviación tipica de la rentabilidad anualizada\n",
    "volatilidad = df['ROI (%)'].std()\n",
    "print('volatilidad: ' , round(volatilidad,2),'%')"
   ]
  }
 ],
 "metadata": {
  "kernelspec": {
   "display_name": "Python 3.10.4 64-bit",
   "language": "python",
   "name": "python3"
  },
  "language_info": {
   "codemirror_mode": {
    "name": "ipython",
    "version": 3
   },
   "file_extension": ".py",
   "mimetype": "text/x-python",
   "name": "python",
   "nbconvert_exporter": "python",
   "pygments_lexer": "ipython3",
   "version": "3.10.4"
  },
  "orig_nbformat": 4,
  "vscode": {
   "interpreter": {
    "hash": "369f2c481f4da34e4445cda3fffd2e751bd1c4d706f27375911949ba6bb62e1c"
   }
  }
 },
 "nbformat": 4,
 "nbformat_minor": 2
}
